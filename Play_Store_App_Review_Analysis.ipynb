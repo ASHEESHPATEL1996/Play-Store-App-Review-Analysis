{
  "nbformat": 4,
  "nbformat_minor": 0,
  "metadata": {
    "kernelspec": {
      "display_name": "Python 3",
      "language": "python",
      "name": "python3"
    },
    "language_info": {
      "codemirror_mode": {
        "name": "ipython",
        "version": 3
      },
      "file_extension": ".py",
      "mimetype": "text/x-python",
      "name": "python",
      "nbconvert_exporter": "python",
      "pygments_lexer": "ipython3",
      "version": "3.6.6"
    },
    "colab": {
      "name": "Play Store App Review Analysis.ipynb",
      "provenance": [],
      "include_colab_link": true
    }
  },
  "cells": [
    {
      "cell_type": "markdown",
      "metadata": {
        "id": "view-in-github",
        "colab_type": "text"
      },
      "source": [
        "<a href=\"https://colab.research.google.com/github/ASHEESHPATEL1996/Play-Store-App-Review-Analysis/blob/main/Play_Store_App_Review_Analysis.ipynb\" target=\"_parent\"><img src=\"https://colab.research.google.com/assets/colab-badge.svg\" alt=\"Open In Colab\"/></a>"
      ]
    },
    {
      "cell_type": "markdown",
      "metadata": {
        "id": "Y06xIdG26kRF"
      },
      "source": [
        "## <b> The Play Store apps data has enormous potential to drive app-making businesses to success. Actionable insights can be drawn for developers to work on and capture the Android market. </b>\n",
        "\n",
        "## <b> Each app (row) has values for catergory, rating, size, and more. Another dataset contains customer reviews of the android apps.</b>\n",
        "\n",
        "## <b> Explore and analyze the data to discover key factors responsible for app engagement and success. </b>"
      ]
    },
    {
      "cell_type": "markdown",
      "source": [
        "# Importing the packages and reading the datasets"
      ],
      "metadata": {
        "id": "TPlWTKdrLR_M"
      }
    },
    {
      "cell_type": "code",
      "source": [
        "from google.colab import drive\n",
        "drive.mount('/content/drive')"
      ],
      "metadata": {
        "colab": {
          "base_uri": "https://localhost:8080/"
        },
        "id": "VdcBETSiXEcf",
        "outputId": "3353eb07-57e3-4b03-9a66-71dc2b6d36c1"
      },
      "execution_count": 1,
      "outputs": [
        {
          "output_type": "stream",
          "name": "stdout",
          "text": [
            "Mounted at /content/drive\n"
          ]
        }
      ]
    },
    {
      "cell_type": "code",
      "metadata": {
        "id": "dByMsuzT8Tnw"
      },
      "source": [
        "# importing the reqired packages\n",
        "import pandas as pd\n",
        "import numpy as np\n",
        "import matplotlib.pyplot as plt\n",
        "import seaborn as sns\n",
        "import datetime as dt"
      ],
      "execution_count": 2,
      "outputs": []
    },
    {
      "cell_type": "code",
      "source": [
        "# reading the data set from the google drive\n",
        "\n",
        "file_path = '/content/drive/MyDrive/AlmaBetter/Capstone Project/Play Store/'\n",
        "store_df = pd.read_csv(file_path +'Play Store Data.csv')\n",
        "review_df = pd.read_csv(file_path + 'User Reviews.csv')"
      ],
      "metadata": {
        "id": "VfGaUYlxWs7q"
      },
      "execution_count": 3,
      "outputs": []
    },
    {
      "cell_type": "markdown",
      "source": [
        "# print the info of the dataset "
      ],
      "metadata": {
        "id": "NpRkFTb5Lgty"
      }
    },
    {
      "cell_type": "code",
      "source": [
        "# getting insight from the store dataset\n",
        "print(store_df.shape)\n",
        "print(store_df.head())\n",
        "print(store_df.tail())\n",
        "print(store_df.columns)\n",
        "print(store_df.info())\n",
        "print(store_df.isna().sum())"
      ],
      "metadata": {
        "colab": {
          "base_uri": "https://localhost:8080/"
        },
        "id": "dGKQXmTpX93P",
        "outputId": "4b4b91b5-e1b0-4dbf-9c05-70b53733fbac"
      },
      "execution_count": 4,
      "outputs": [
        {
          "output_type": "stream",
          "name": "stdout",
          "text": [
            "(10841, 13)\n",
            "                                                 App        Category  Rating  \\\n",
            "0     Photo Editor & Candy Camera & Grid & ScrapBook  ART_AND_DESIGN     4.1   \n",
            "1                                Coloring book moana  ART_AND_DESIGN     3.9   \n",
            "2  U Launcher Lite – FREE Live Cool Themes, Hide ...  ART_AND_DESIGN     4.7   \n",
            "3                              Sketch - Draw & Paint  ART_AND_DESIGN     4.5   \n",
            "4              Pixel Draw - Number Art Coloring Book  ART_AND_DESIGN     4.3   \n",
            "\n",
            "  Reviews  Size     Installs  Type Price Content Rating  \\\n",
            "0     159   19M      10,000+  Free     0       Everyone   \n",
            "1     967   14M     500,000+  Free     0       Everyone   \n",
            "2   87510  8.7M   5,000,000+  Free     0       Everyone   \n",
            "3  215644   25M  50,000,000+  Free     0           Teen   \n",
            "4     967  2.8M     100,000+  Free     0       Everyone   \n",
            "\n",
            "                      Genres      Last Updated         Current Ver  \\\n",
            "0               Art & Design   January 7, 2018               1.0.0   \n",
            "1  Art & Design;Pretend Play  January 15, 2018               2.0.0   \n",
            "2               Art & Design    August 1, 2018               1.2.4   \n",
            "3               Art & Design      June 8, 2018  Varies with device   \n",
            "4    Art & Design;Creativity     June 20, 2018                 1.1   \n",
            "\n",
            "    Android Ver  \n",
            "0  4.0.3 and up  \n",
            "1  4.0.3 and up  \n",
            "2  4.0.3 and up  \n",
            "3    4.2 and up  \n",
            "4    4.4 and up  \n",
            "                                                 App             Category  \\\n",
            "10836                               Sya9a Maroc - FR               FAMILY   \n",
            "10837               Fr. Mike Schmitz Audio Teachings               FAMILY   \n",
            "10838                         Parkinson Exercices FR              MEDICAL   \n",
            "10839                  The SCP Foundation DB fr nn5n  BOOKS_AND_REFERENCE   \n",
            "10840  iHoroscope - 2018 Daily Horoscope & Astrology            LIFESTYLE   \n",
            "\n",
            "       Rating Reviews                Size     Installs  Type Price  \\\n",
            "10836     4.5      38                 53M       5,000+  Free     0   \n",
            "10837     5.0       4                3.6M         100+  Free     0   \n",
            "10838     NaN       3                9.5M       1,000+  Free     0   \n",
            "10839     4.5     114  Varies with device       1,000+  Free     0   \n",
            "10840     4.5  398307                 19M  10,000,000+  Free     0   \n",
            "\n",
            "      Content Rating             Genres      Last Updated         Current Ver  \\\n",
            "10836       Everyone          Education     July 25, 2017                1.48   \n",
            "10837       Everyone          Education      July 6, 2018                 1.0   \n",
            "10838       Everyone            Medical  January 20, 2017                 1.0   \n",
            "10839     Mature 17+  Books & Reference  January 19, 2015  Varies with device   \n",
            "10840       Everyone          Lifestyle     July 25, 2018  Varies with device   \n",
            "\n",
            "              Android Ver  \n",
            "10836          4.1 and up  \n",
            "10837          4.1 and up  \n",
            "10838          2.2 and up  \n",
            "10839  Varies with device  \n",
            "10840  Varies with device  \n",
            "Index(['App', 'Category', 'Rating', 'Reviews', 'Size', 'Installs', 'Type',\n",
            "       'Price', 'Content Rating', 'Genres', 'Last Updated', 'Current Ver',\n",
            "       'Android Ver'],\n",
            "      dtype='object')\n",
            "<class 'pandas.core.frame.DataFrame'>\n",
            "RangeIndex: 10841 entries, 0 to 10840\n",
            "Data columns (total 13 columns):\n",
            " #   Column          Non-Null Count  Dtype  \n",
            "---  ------          --------------  -----  \n",
            " 0   App             10841 non-null  object \n",
            " 1   Category        10841 non-null  object \n",
            " 2   Rating          9367 non-null   float64\n",
            " 3   Reviews         10841 non-null  object \n",
            " 4   Size            10841 non-null  object \n",
            " 5   Installs        10841 non-null  object \n",
            " 6   Type            10840 non-null  object \n",
            " 7   Price           10841 non-null  object \n",
            " 8   Content Rating  10840 non-null  object \n",
            " 9   Genres          10841 non-null  object \n",
            " 10  Last Updated    10841 non-null  object \n",
            " 11  Current Ver     10833 non-null  object \n",
            " 12  Android Ver     10838 non-null  object \n",
            "dtypes: float64(1), object(12)\n",
            "memory usage: 1.1+ MB\n",
            "None\n",
            "App                  0\n",
            "Category             0\n",
            "Rating            1474\n",
            "Reviews              0\n",
            "Size                 0\n",
            "Installs             0\n",
            "Type                 1\n",
            "Price                0\n",
            "Content Rating       1\n",
            "Genres               0\n",
            "Last Updated         0\n",
            "Current Ver          8\n",
            "Android Ver          3\n",
            "dtype: int64\n"
          ]
        }
      ]
    },
    {
      "cell_type": "code",
      "source": [
        "# getting some insight from the review dataset\n",
        "print(review_df.head())\n",
        "print(review_df.columns)\n",
        "print(review_df.info())\n",
        "print(review_df.isna().sum())\n",
        "print(review_df.shape)"
      ],
      "metadata": {
        "colab": {
          "base_uri": "https://localhost:8080/"
        },
        "id": "oud-m31_YGeR",
        "outputId": "fe20cd48-bae6-44e0-8557-7caecba689ae"
      },
      "execution_count": 5,
      "outputs": [
        {
          "output_type": "stream",
          "name": "stdout",
          "text": [
            "                     App                                  Translated_Review  \\\n",
            "0  10 Best Foods for You  I like eat delicious food. That's I'm cooking ...   \n",
            "1  10 Best Foods for You    This help eating healthy exercise regular basis   \n",
            "2  10 Best Foods for You                                                NaN   \n",
            "3  10 Best Foods for You         Works great especially going grocery store   \n",
            "4  10 Best Foods for You                                       Best idea us   \n",
            "\n",
            "  Sentiment  Sentiment_Polarity  Sentiment_Subjectivity  \n",
            "0  Positive                1.00                0.533333  \n",
            "1  Positive                0.25                0.288462  \n",
            "2       NaN                 NaN                     NaN  \n",
            "3  Positive                0.40                0.875000  \n",
            "4  Positive                1.00                0.300000  \n",
            "Index(['App', 'Translated_Review', 'Sentiment', 'Sentiment_Polarity',\n",
            "       'Sentiment_Subjectivity'],\n",
            "      dtype='object')\n",
            "<class 'pandas.core.frame.DataFrame'>\n",
            "RangeIndex: 64295 entries, 0 to 64294\n",
            "Data columns (total 5 columns):\n",
            " #   Column                  Non-Null Count  Dtype  \n",
            "---  ------                  --------------  -----  \n",
            " 0   App                     64295 non-null  object \n",
            " 1   Translated_Review       37427 non-null  object \n",
            " 2   Sentiment               37432 non-null  object \n",
            " 3   Sentiment_Polarity      37432 non-null  float64\n",
            " 4   Sentiment_Subjectivity  37432 non-null  float64\n",
            "dtypes: float64(2), object(3)\n",
            "memory usage: 2.5+ MB\n",
            "None\n",
            "App                           0\n",
            "Translated_Review         26868\n",
            "Sentiment                 26863\n",
            "Sentiment_Polarity        26863\n",
            "Sentiment_Subjectivity    26863\n",
            "dtype: int64\n",
            "(64295, 5)\n"
          ]
        }
      ]
    },
    {
      "cell_type": "markdown",
      "source": [
        "# Cleaning the data sets"
      ],
      "metadata": {
        "id": "ObZYQhhFL_eA"
      }
    },
    {
      "cell_type": "code",
      "source": [
        "# we can also drop some duplicate\n",
        "\n",
        "store_df = store_df.drop_duplicates()\n",
        "print(store_df.shape)"
      ],
      "metadata": {
        "colab": {
          "base_uri": "https://localhost:8080/"
        },
        "id": "20NSudzWKFq1",
        "outputId": "e42761d8-b140-47ee-d5e0-dba55e9fe2a8"
      },
      "execution_count": 6,
      "outputs": [
        {
          "output_type": "stream",
          "name": "stdout",
          "text": [
            "(10358, 13)\n"
          ]
        }
      ]
    },
    {
      "cell_type": "code",
      "source": [
        "# To change the dataset type from object to int/float we have to remove the characters\n",
        "store_df['Installs'] = store_df['Installs'].apply(lambda x: x.replace('+',''))\n",
        "store_df['Installs'] = store_df['Installs'].apply(lambda x: x.replace(',',''))\n",
        "store_df['Price'] = store_df['Price'].apply(lambda x: x.replace('$',''))\n",
        "store_df['Size'] = store_df['Size'].apply(lambda x: x.replace('M','000000'))\n",
        "store_df['Size'] = store_df['Size'].apply(lambda x: x.replace('K','000'))\n",
        "store_df['Size'] = store_df['Size'].apply(lambda x: x.replace('k','000'))"
      ],
      "metadata": {
        "id": "tQjt6TAu-sh9"
      },
      "execution_count": 7,
      "outputs": []
    },
    {
      "cell_type": "code",
      "source": [
        "store_df.Price.unique()"
      ],
      "metadata": {
        "colab": {
          "base_uri": "https://localhost:8080/"
        },
        "id": "oQWsgvgHPNQw",
        "outputId": "0c6af2c2-bb68-4c1a-f627-20b81f715eba"
      },
      "execution_count": 8,
      "outputs": [
        {
          "output_type": "execute_result",
          "data": {
            "text/plain": [
              "array(['0', '4.99', '3.99', '6.99', '1.49', '2.99', '7.99', '5.99',\n",
              "       '3.49', '1.99', '9.99', '7.49', '0.99', '9.00', '5.49', '10.00',\n",
              "       '24.99', '11.99', '79.99', '16.99', '14.99', '1.00', '29.99',\n",
              "       '12.99', '2.49', '10.99', '1.50', '19.99', '15.99', '33.99',\n",
              "       '74.99', '39.99', '3.95', '4.49', '1.70', '8.99', '2.00', '3.88',\n",
              "       '25.99', '399.99', '17.99', '400.00', '3.02', '1.76', '4.84',\n",
              "       '4.77', '1.61', '2.50', '1.59', '6.49', '1.29', '5.00', '13.99',\n",
              "       '299.99', '379.99', '37.99', '18.99', '389.99', '19.90', '8.49',\n",
              "       '1.75', '14.00', '4.85', '46.99', '109.99', '154.99', '3.08',\n",
              "       '2.59', '4.80', '1.96', '19.40', '3.90', '4.59', '15.46', '3.04',\n",
              "       '4.29', '2.60', '3.28', '4.60', '28.99', '2.95', '2.90', '1.97',\n",
              "       '200.00', '89.99', '2.56', '30.99', '3.61', '394.99', '1.26',\n",
              "       'Everyone', '1.20', '1.04'], dtype=object)"
            ]
          },
          "metadata": {},
          "execution_count": 8
        }
      ]
    },
    {
      "cell_type": "markdown",
      "source": [
        "Here we can see that in price column a value is ***'Everyone'*** is string and all other values are **int in form of string** so we have to remove that Row."
      ],
      "metadata": {
        "id": "wk6N6mSzQOo-"
      }
    },
    {
      "cell_type": "code",
      "source": [
        "store_df.drop(store_df[store_df['Price']=='Everyone'].index,inplace=True)"
      ],
      "metadata": {
        "id": "VuOB1UBEQxyv"
      },
      "execution_count": 9,
      "outputs": []
    },
    {
      "cell_type": "code",
      "source": [
        "store_df.Size.unique()"
      ],
      "metadata": {
        "colab": {
          "base_uri": "https://localhost:8080/"
        },
        "id": "nyL2ZRUjSS39",
        "outputId": "686abc11-20f6-4971-af0b-7f97dc6df63c"
      },
      "execution_count": 10,
      "outputs": [
        {
          "output_type": "execute_result",
          "data": {
            "text/plain": [
              "array(['19000000', '14000000', '8.7000000', '25000000', '2.8000000',\n",
              "       '5.6000000', '29000000', '33000000', '3.1000000', '28000000',\n",
              "       '12000000', '20000000', '21000000', '37000000', '2.7000000',\n",
              "       '5.5000000', '17000000', '39000000', '31000000', '4.2000000',\n",
              "       '7.0000000', '23000000', '6.0000000', '6.1000000', '4.6000000',\n",
              "       '9.2000000', '5.2000000', '11000000', '24000000',\n",
              "       'Varies with device', '9.4000000', '15000000', '10000000',\n",
              "       '1.2000000', '26000000', '8.0000000', '7.9000000', '56000000',\n",
              "       '57000000', '35000000', '54000000', '201000', '3.6000000',\n",
              "       '5.7000000', '8.6000000', '2.4000000', '27000000', '2.5000000',\n",
              "       '16000000', '3.4000000', '8.9000000', '3.9000000', '2.9000000',\n",
              "       '38000000', '32000000', '5.4000000', '18000000', '1.1000000',\n",
              "       '2.2000000', '4.5000000', '9.8000000', '52000000', '9.0000000',\n",
              "       '6.7000000', '30000000', '2.6000000', '7.1000000', '3.7000000',\n",
              "       '22000000', '7.4000000', '6.4000000', '3.2000000', '8.2000000',\n",
              "       '9.9000000', '4.9000000', '9.5000000', '5.0000000', '5.9000000',\n",
              "       '13000000', '73000000', '6.8000000', '3.5000000', '4.0000000',\n",
              "       '2.3000000', '7.2000000', '2.1000000', '42000000', '7.3000000',\n",
              "       '9.1000000', '55000000', '23000', '6.5000000', '1.5000000',\n",
              "       '7.5000000', '51000000', '41000000', '48000000', '8.5000000',\n",
              "       '46000000', '8.3000000', '4.3000000', '4.7000000', '3.3000000',\n",
              "       '40000000', '7.8000000', '8.8000000', '6.6000000', '5.1000000',\n",
              "       '61000000', '66000000', '79000', '8.4000000', '118000', '44000000',\n",
              "       '695000', '1.6000000', '6.2000000', '18000', '53000000',\n",
              "       '1.4000000', '3.0000000', '5.8000000', '3.8000000', '9.6000000',\n",
              "       '45000000', '63000000', '49000000', '77000000', '4.4000000',\n",
              "       '4.8000000', '70000000', '6.9000000', '9.3000000', '10.0000000',\n",
              "       '8.1000000', '36000000', '84000000', '97000000', '2.0000000',\n",
              "       '1.9000000', '1.8000000', '5.3000000', '47000000', '556000',\n",
              "       '526000', '76000000', '7.6000000', '59000000', '9.7000000',\n",
              "       '78000000', '72000000', '43000000', '7.7000000', '6.3000000',\n",
              "       '334000', '34000000', '93000000', '65000000', '79000000',\n",
              "       '100000000', '58000000', '50000000', '68000000', '64000000',\n",
              "       '67000000', '60000000', '94000000', '232000', '99000000', '624000',\n",
              "       '95000000', '8.5000', '41000', '292000', '11000', '80000000',\n",
              "       '1.7000000', '74000000', '62000000', '69000000', '75000000',\n",
              "       '98000000', '85000000', '82000000', '96000000', '87000000',\n",
              "       '71000000', '86000000', '91000000', '81000000', '92000000',\n",
              "       '83000000', '88000000', '704000', '862000', '899000', '378000',\n",
              "       '266000', '375000', '1.3000000', '975000', '980000', '4.1000000',\n",
              "       '89000000', '696000', '544000', '525000', '920000', '779000',\n",
              "       '853000', '720000', '713000', '772000', '318000', '58000',\n",
              "       '241000', '196000', '857000', '51000', '953000', '865000',\n",
              "       '251000', '930000', '540000', '313000', '746000', '203000',\n",
              "       '26000', '314000', '239000', '371000', '220000', '730000',\n",
              "       '756000', '91000', '293000', '17000', '74000', '14000', '317000',\n",
              "       '78000', '924000', '902000', '818000', '81000', '939000', '169000',\n",
              "       '45000', '475000', '965000', '90000000', '545000', '61000',\n",
              "       '283000', '655000', '714000', '93000', '872000', '121000',\n",
              "       '322000', '1.0000000', '976000', '172000', '238000', '549000',\n",
              "       '206000', '954000', '444000', '717000', '210000', '609000',\n",
              "       '308000', '705000', '306000', '904000', '473000', '175000',\n",
              "       '350000', '383000', '454000', '421000', '70000', '812000',\n",
              "       '442000', '842000', '417000', '412000', '459000', '478000',\n",
              "       '335000', '782000', '721000', '430000', '429000', '192000',\n",
              "       '200000', '460000', '728000', '496000', '816000', '414000',\n",
              "       '506000', '887000', '613000', '243000', '569000', '778000',\n",
              "       '683000', '592000', '319000', '186000', '840000', '647000',\n",
              "       '191000', '373000', '437000', '598000', '716000', '585000',\n",
              "       '982000', '222000', '219000', '55000', '948000', '323000',\n",
              "       '691000', '511000', '951000', '963000', '25000', '554000',\n",
              "       '351000', '27000', '82000', '208000', '913000', '514000', '551000',\n",
              "       '29000', '103000', '898000', '743000', '116000', '153000',\n",
              "       '209000', '353000', '499000', '173000', '597000', '809000',\n",
              "       '122000', '411000', '400000', '801000', '787000', '237000',\n",
              "       '50000', '643000', '986000', '97000', '516000', '837000', '780000',\n",
              "       '961000', '269000', '20000', '498000', '600000', '749000',\n",
              "       '642000', '881000', '72000', '656000', '601000', '221000',\n",
              "       '228000', '108000', '940000', '176000', '33000', '663000', '34000',\n",
              "       '942000', '259000', '164000', '458000', '245000', '629000',\n",
              "       '28000', '288000', '775000', '785000', '636000', '916000',\n",
              "       '994000', '309000', '485000', '914000', '903000', '608000',\n",
              "       '500000', '54000', '562000', '847000', '957000', '688000',\n",
              "       '811000', '270000', '48000', '329000', '523000', '921000',\n",
              "       '874000', '981000', '784000', '280000', '24000', '518000',\n",
              "       '754000', '892000', '154000', '860000', '364000', '387000',\n",
              "       '626000', '161000', '879000', '39000', '970000', '170000',\n",
              "       '141000', '160000', '144000', '143000', '190000', '376000',\n",
              "       '193000', '246000', '73000', '658000', '992000', '253000',\n",
              "       '420000', '404000', '470000', '226000', '240000', '89000',\n",
              "       '234000', '257000', '861000', '467000', '157000', '44000',\n",
              "       '676000', '67000', '552000', '885000', '1020000', '582000',\n",
              "       '619000'], dtype=object)"
            ]
          },
          "metadata": {},
          "execution_count": 10
        }
      ]
    },
    {
      "cell_type": "markdown",
      "source": [
        "here we can see a value **'Varies with device'** can cause problems so we have to remove that column"
      ],
      "metadata": {
        "id": "6H-5QONFTKKX"
      }
    },
    {
      "cell_type": "code",
      "source": [
        "store_df.drop(store_df[store_df['Size']=='Varies with device'].index,inplace=True)"
      ],
      "metadata": {
        "id": "LrOrjWouTIbN"
      },
      "execution_count": 11,
      "outputs": []
    },
    {
      "cell_type": "markdown",
      "source": [
        "# Changing the data types of some columns from object to int/float or datetime"
      ],
      "metadata": {
        "id": "PACwT5_dOY2P"
      }
    },
    {
      "cell_type": "code",
      "source": [
        "store_df['Installs'] = store_df['Installs'].astype('float')\n",
        "store_df['Price'] = store_df['Price'].astype('float')\n",
        "store_df['Size'] = store_df['Size'].astype('float')\n",
        "store_df['Reviews'] = store_df['Reviews'].astype('float')"
      ],
      "metadata": {
        "id": "cZiKYZVsOje2"
      },
      "execution_count": 12,
      "outputs": []
    },
    {
      "cell_type": "code",
      "source": [
        "store_df['Last Updated'] = pd.to_datetime(store_df['Last Updated'])"
      ],
      "metadata": {
        "id": "JuqSk9jZzDpP"
      },
      "execution_count": 13,
      "outputs": []
    },
    {
      "cell_type": "markdown",
      "source": [
        "# Filling the missing values\n"
      ],
      "metadata": {
        "id": "1T-0Ht9BMNNM"
      }
    },
    {
      "cell_type": "code",
      "source": [
        "# we can fill missing values of rating column with 0 because of unavilability of rating\n",
        "store_df.Rating.fillna(0,inplace= True)"
      ],
      "metadata": {
        "id": "w-704y7gXdWi"
      },
      "execution_count": 14,
      "outputs": []
    },
    {
      "cell_type": "markdown",
      "source": [
        "# Exploring the Dataset"
      ],
      "metadata": {
        "id": "bgmykI-1V6KG"
      }
    },
    {
      "cell_type": "code",
      "source": [
        "# checking the uique category\n",
        "print('Number of categories = ', len(store_df.Category.unique()))\n",
        "print(store_df.Category.unique())\n",
        "\n",
        "# counting the apps for each unique category\n",
        "apps_by_category = store_df.groupby('Category')['App'].count()\n",
        "\n",
        "# ploting the category-wise apps count\n",
        "plt.figure(figsize=(15,5)) \n",
        "apps_by_category.plot(kind = 'bar')\n",
        "plt.xticks(rotation=90)\n",
        "plt.title('apps_by_category')\n",
        "plt.show()\n",
        "print(apps_by_category)"
      ],
      "metadata": {
        "colab": {
          "base_uri": "https://localhost:8080/",
          "height": 0
        },
        "id": "mC0yYu3MV-3c",
        "outputId": "a77e7c07-fe01-4db6-f7bd-a1557b3ca240"
      },
      "execution_count": 15,
      "outputs": [
        {
          "output_type": "stream",
          "name": "stdout",
          "text": [
            "Number of categories =  33\n",
            "['ART_AND_DESIGN' 'AUTO_AND_VEHICLES' 'BEAUTY' 'BOOKS_AND_REFERENCE'\n",
            " 'BUSINESS' 'COMICS' 'COMMUNICATION' 'DATING' 'EDUCATION' 'ENTERTAINMENT'\n",
            " 'EVENTS' 'FINANCE' 'FOOD_AND_DRINK' 'HEALTH_AND_FITNESS' 'HOUSE_AND_HOME'\n",
            " 'LIBRARIES_AND_DEMO' 'LIFESTYLE' 'GAME' 'FAMILY' 'MEDICAL' 'SOCIAL'\n",
            " 'SHOPPING' 'PHOTOGRAPHY' 'SPORTS' 'TRAVEL_AND_LOCAL' 'TOOLS'\n",
            " 'PERSONALIZATION' 'PRODUCTIVITY' 'PARENTING' 'WEATHER' 'VIDEO_PLAYERS'\n",
            " 'NEWS_AND_MAGAZINES' 'MAPS_AND_NAVIGATION']\n"
          ]
        },
        {
          "output_type": "display_data",
          "data": {
            "text/plain": [
              "<Figure size 1080x360 with 1 Axes>"
            ],
            "image/png": "[encoded data removed]"
          },
          "metadata": {
            "needs_background": "light"
          }
        },
        {
          "output_type": "stream",
          "name": "stdout",
          "text": [
            "Category\n",
            "ART_AND_DESIGN           62\n",
            "AUTO_AND_VEHICLES        75\n",
            "BEAUTY                   47\n",
            "BOOKS_AND_REFERENCE     196\n",
            "BUSINESS                379\n",
            "COMICS                   51\n",
            "COMMUNICATION           260\n",
            "DATING                  178\n",
            "EDUCATION                96\n",
            "ENTERTAINMENT            67\n",
            "EVENTS                   57\n",
            "FAMILY                 1806\n",
            "FINANCE                 304\n",
            "FOOD_AND_DRINK           98\n",
            "GAME                   1000\n",
            "HEALTH_AND_FITNESS      240\n",
            "HOUSE_AND_HOME           62\n",
            "LIBRARIES_AND_DEMO       82\n",
            "LIFESTYLE               338\n",
            "MAPS_AND_NAVIGATION     108\n",
            "MEDICAL                 380\n",
            "NEWS_AND_MAGAZINES      209\n",
            "PARENTING                54\n",
            "PERSONALIZATION         354\n",
            "PHOTOGRAPHY             243\n",
            "PRODUCTIVITY            299\n",
            "SHOPPING                181\n",
            "SOCIAL                  203\n",
            "SPORTS                  296\n",
            "TOOLS                   739\n",
            "TRAVEL_AND_LOCAL        179\n",
            "VIDEO_PLAYERS           131\n",
            "WEATHER                  57\n",
            "Name: App, dtype: int64\n"
          ]
        }
      ]
    },
    {
      "cell_type": "markdown",
      "source": [
        "Here we can see that ***FAMILY*** category has maximum no of apps fallowed by ***Game*** category in play Store."
      ],
      "metadata": {
        "id": "wUM6Swl3eJkt"
      }
    },
    {
      "cell_type": "code",
      "source": [
        "# category wise installations\n",
        "apps_by_category_install = store_df.groupby('Category')['Installs'].sum()\n",
        "\n",
        "# ploting the category-wise apps count\n",
        "plt.figure(figsize=(15,5)) \n",
        "apps_by_category_install.plot(kind = 'bar')\n",
        "plt.xticks(rotation=90)\n",
        "plt.title('apps_by_category_install')\n",
        "plt.show()\n",
        "print(apps_by_category_install)"
      ],
      "metadata": {
        "colab": {
          "base_uri": "https://localhost:8080/",
          "height": 0
        },
        "id": "v_kDqOaHLHBT",
        "outputId": "0c9105c5-6877-4113-de31-855d7ae6c200"
      },
      "execution_count": 16,
      "outputs": [
        {
          "output_type": "display_data",
          "data": {
            "text/plain": [
              "<Figure size 1080x360 with 1 Axes>"
            ],
            "image/png": "[encoded data removed]"
          },
          "metadata": {
            "needs_background": "light"
          }
        },
        {
          "output_type": "stream",
          "name": "stdout",
          "text": [
            "Category\n",
            "ART_AND_DESIGN         9.933810e+07\n",
            "AUTO_AND_VEHICLES      4.377021e+07\n",
            "BEAUTY                 1.369695e+07\n",
            "BOOKS_AND_REFERENCE    1.349621e+08\n",
            "BUSINESS               4.919286e+08\n",
            "COMICS                 1.758615e+07\n",
            "COMMUNICATION          3.336943e+09\n",
            "DATING                 1.052061e+08\n",
            "EDUCATION              2.083020e+08\n",
            "ENTERTAINMENT          7.489600e+08\n",
            "EVENTS                 1.067215e+07\n",
            "FAMILY                 6.697222e+09\n",
            "FINANCE                3.166235e+08\n",
            "FOOD_AND_DRINK         1.716887e+08\n",
            "GAME                   2.680256e+10\n",
            "HEALTH_AND_FITNESS     8.034619e+08\n",
            "HOUSE_AND_HOME         5.161246e+07\n",
            "LIBRARIES_AND_DEMO     6.189591e+07\n",
            "LIFESTYLE              4.356008e+08\n",
            "MAPS_AND_NAVIGATION    1.750299e+08\n",
            "MEDICAL                3.550062e+07\n",
            "NEWS_AND_MAGAZINES     3.215006e+09\n",
            "PARENTING              2.397101e+07\n",
            "PERSONALIZATION        9.971798e+08\n",
            "PHOTOGRAPHY            2.390898e+09\n",
            "PRODUCTIVITY           2.711313e+09\n",
            "SHOPPING               1.312749e+09\n",
            "SOCIAL                 7.942648e+08\n",
            "SPORTS                 1.062449e+09\n",
            "TOOLS                  3.527095e+09\n",
            "TRAVEL_AND_LOCAL       2.606661e+08\n",
            "VIDEO_PLAYERS          8.918677e+08\n",
            "WEATHER                1.393000e+08\n",
            "Name: Installs, dtype: float64\n"
          ]
        }
      ]
    },
    {
      "cell_type": "markdown",
      "source": [
        "In total ***Games*** have highest downloads in play store."
      ],
      "metadata": {
        "id": "pys3uXNIL5pS"
      }
    },
    {
      "cell_type": "code",
      "source": [
        "# Getting the insight of category and Rating \n",
        "apps_by_category_rating = store_df.groupby('Category')['Rating'].mean()\n",
        "\n",
        "# ploting the category-wise apps count\n",
        "plt.figure(figsize=(15,5)) \n",
        "apps_by_category_rating.plot(kind = 'bar')\n",
        "plt.xticks(rotation=90)\n",
        "plt.show()\n",
        "print(apps_by_category_rating)"
      ],
      "metadata": {
        "colab": {
          "base_uri": "https://localhost:8080/",
          "height": 0
        },
        "id": "sQZl7OjOe0qY",
        "outputId": "58d58f12-da29-4001-9db1-77caf7486a25"
      },
      "execution_count": 17,
      "outputs": [
        {
          "output_type": "display_data",
          "data": {
            "text/plain": [
              "<Figure size 1080x360 with 1 Axes>"
            ],
            "image/png": "[encoded data removed]"
          },
          "metadata": {
            "needs_background": "light"
          }
        },
        {
          "output_type": "stream",
          "name": "stdout",
          "text": [
            "Category\n",
            "ART_AND_DESIGN         4.150000\n",
            "AUTO_AND_VEHICLES      3.484000\n",
            "BEAUTY                 3.378723\n",
            "BOOKS_AND_REFERENCE    3.153061\n",
            "BUSINESS               2.434037\n",
            "COMICS                 3.968627\n",
            "COMMUNICATION          3.246538\n",
            "DATING                 3.136517\n",
            "EDUCATION              4.334375\n",
            "ENTERTAINMENT          4.155224\n",
            "EVENTS                 2.985965\n",
            "FAMILY                 3.690476\n",
            "FINANCE                3.554934\n",
            "FOOD_AND_DRINK         3.429592\n",
            "GAME                   4.090800\n",
            "HEALTH_AND_FITNESS     3.487917\n",
            "HOUSE_AND_HOME         3.329032\n",
            "LIBRARIES_AND_DEMO     3.178049\n",
            "LIFESTYLE              3.305917\n",
            "MAPS_AND_NAVIGATION    3.530556\n",
            "MEDICAL                3.045789\n",
            "NEWS_AND_MAGAZINES     3.215789\n",
            "PARENTING              3.542593\n",
            "PERSONALIZATION        3.408475\n",
            "PHOTOGRAPHY            3.828395\n",
            "PRODUCTIVITY           3.199666\n",
            "SHOPPING               3.711602\n",
            "SOCIAL                 3.567980\n",
            "SPORTS                 3.298311\n",
            "TOOLS                  3.441137\n",
            "TRAVEL_AND_LOCAL       3.306704\n",
            "VIDEO_PLAYERS          3.564885\n",
            "WEATHER                3.794737\n",
            "Name: Rating, dtype: float64\n"
          ]
        }
      ]
    },
    {
      "cell_type": "code",
      "source": [
        "# Getting the insight of category and Review\n",
        "apps_by_category_reviews = store_df.groupby('Category')['Reviews'].sum()\n",
        "\n",
        "# ploting the category-wise apps count\n",
        "plt.figure(figsize=(15,5)) \n",
        "apps_by_category_reviews.plot(kind = 'bar')\n",
        "plt.xticks(rotation=90)\n",
        "plt.title('apps_by_category_reviews')\n",
        "plt.show()\n",
        "print(apps_by_category_reviews)"
      ],
      "metadata": {
        "colab": {
          "base_uri": "https://localhost:8080/",
          "height": 0
        },
        "id": "4YePNDhgfY_A",
        "outputId": "dc013e73-01c3-4986-fcff-074d81198bef"
      },
      "execution_count": 18,
      "outputs": [
        {
          "output_type": "display_data",
          "data": {
            "text/plain": [
              "<Figure size 1080x360 with 1 Axes>"
            ],
            "image/png": "[encoded data removed]"
          },
          "metadata": {
            "needs_background": "light"
          }
        },
        {
          "output_type": "stream",
          "name": "stdout",
          "text": [
            "Category\n",
            "ART_AND_DESIGN         1.087343e+06\n",
            "AUTO_AND_VEHICLES      9.923220e+05\n",
            "BEAUTY                 1.868560e+05\n",
            "BOOKS_AND_REFERENCE    3.968586e+06\n",
            "BUSINESS               5.427906e+06\n",
            "COMICS                 6.161940e+05\n",
            "COMMUNICATION          8.907720e+07\n",
            "DATING                 2.803552e+06\n",
            "EDUCATION              5.399463e+06\n",
            "ENTERTAINMENT          1.094061e+07\n",
            "EVENTS                 1.266490e+05\n",
            "FAMILY                 2.884688e+08\n",
            "FINANCE                1.036616e+07\n",
            "FOOD_AND_DRINK         4.108688e+06\n",
            "GAME                   1.206725e+09\n",
            "HEALTH_AND_FITNESS     8.568712e+06\n",
            "HOUSE_AND_HOME         9.920330e+05\n",
            "LIBRARIES_AND_DEMO     1.019467e+06\n",
            "LIFESTYLE              8.657579e+06\n",
            "MAPS_AND_NAVIGATION    3.666158e+06\n",
            "MEDICAL                1.234445e+06\n",
            "NEWS_AND_MAGAZINES     8.129835e+06\n",
            "PARENTING              8.847000e+05\n",
            "PERSONALIZATION        3.485332e+07\n",
            "PHOTOGRAPHY            7.172162e+07\n",
            "PRODUCTIVITY           4.264305e+07\n",
            "SHOPPING               3.951521e+07\n",
            "SOCIAL                 2.794313e+07\n",
            "SPORTS                 5.091184e+07\n",
            "TOOLS                  1.052809e+08\n",
            "TRAVEL_AND_LOCAL       5.370242e+06\n",
            "VIDEO_PLAYERS          2.406090e+07\n",
            "WEATHER                3.896030e+06\n",
            "Name: Reviews, dtype: float64\n"
          ]
        }
      ]
    },
    {
      "cell_type": "markdown",
      "source": [
        "Here we can see that ***Games*** have highest numbers of reviews."
      ],
      "metadata": {
        "id": "-oR1L6Iwf_Sl"
      }
    },
    {
      "cell_type": "code",
      "source": [
        "# Getting the insight of category and Price\n",
        "apps_by_category_price = store_df.groupby('Category')['Price'].mean()\n",
        "\n",
        "# ploting the category-wise apps count\n",
        "plt.figure(figsize=(15,5)) \n",
        "apps_by_category_price.plot(kind = 'bar')\n",
        "plt.xticks(rotation=90)\n",
        "plt.title('apps_by_category_price')\n",
        "plt.show()\n",
        "print(apps_by_category_price)"
      ],
      "metadata": {
        "colab": {
          "base_uri": "https://localhost:8080/",
          "height": 0
        },
        "id": "YYyLESyefrHi",
        "outputId": "6e5edf44-07eb-41f8-86b0-cb25f18ddaef"
      },
      "execution_count": 19,
      "outputs": [
        {
          "output_type": "display_data",
          "data": {
            "text/plain": [
              "<Figure size 1080x360 with 1 Axes>"
            ],
            "image/png": "[encoded data removed]"
          },
          "metadata": {
            "needs_background": "light"
          }
        },
        {
          "output_type": "stream",
          "name": "stdout",
          "text": [
            "Category\n",
            "ART_AND_DESIGN         0.096290\n",
            "AUTO_AND_VEHICLES      0.153067\n",
            "BEAUTY                 0.000000\n",
            "BOOKS_AND_REFERENCE    0.595816\n",
            "BUSINESS               0.428232\n",
            "COMICS                 0.000000\n",
            "COMMUNICATION          0.262231\n",
            "DATING                 0.131742\n",
            "EDUCATION              0.187083\n",
            "ENTERTAINMENT          0.044627\n",
            "EVENTS                 1.929649\n",
            "FAMILY                 1.310604\n",
            "FINANCE                9.542204\n",
            "FOOD_AND_DRINK         0.050918\n",
            "GAME                   0.279340\n",
            "HEALTH_AND_FITNESS     0.234917\n",
            "HOUSE_AND_HOME         0.000000\n",
            "LIBRARIES_AND_DEMO     0.012073\n",
            "LIFESTYLE              6.962692\n",
            "MAPS_AND_NAVIGATION    0.138519\n",
            "MEDICAL                2.575763\n",
            "NEWS_AND_MAGAZINES     0.019043\n",
            "PARENTING              0.092407\n",
            "PERSONALIZATION        0.399746\n",
            "PHOTOGRAPHY            0.462305\n",
            "PRODUCTIVITY           0.779164\n",
            "SHOPPING               0.030276\n",
            "SOCIAL                 0.078670\n",
            "SPORTS                 0.293986\n",
            "TOOLS                  0.320650\n",
            "TRAVEL_AND_LOCAL       0.217709\n",
            "VIDEO_PLAYERS          0.007557\n",
            "WEATHER                0.411228\n",
            "Name: Price, dtype: float64\n"
          ]
        }
      ]
    },
    {
      "cell_type": "markdown",
      "source": [
        "here we can see that on average ***Finance apps*** are costly than other apps fallowed by ***Lifestyle apps***."
      ],
      "metadata": {
        "id": "AEjAt4Uggp_O"
      }
    },
    {
      "cell_type": "code",
      "source": [
        "# Getting the insight of type and installs\n",
        "apps_by_type_install = store_df.groupby('Type')['Installs'].sum()\n",
        "\n",
        "\n",
        "# ploting the category-wise apps count\n",
        "plt.figure(figsize=(15,5)) \n",
        "apps_by_type_install.plot(kind = 'bar')\n",
        "plt.xticks(rotation=90)\n",
        "plt.title('apps_by_type_install')\n",
        "plt.show()\n",
        "print(apps_by_type_install)"
      ],
      "metadata": {
        "colab": {
          "base_uri": "https://localhost:8080/",
          "height": 0
        },
        "id": "3M33JH5qgR26",
        "outputId": "feaa2a4f-5a1d-4d0c-f1b6-c6b1c1d143db"
      },
      "execution_count": 20,
      "outputs": [
        {
          "output_type": "display_data",
          "data": {
            "text/plain": [
              "<Figure size 1080x360 with 1 Axes>"
            ],
            "image/png": "[encoded data removed]"
          },
          "metadata": {
            "needs_background": "light"
          }
        },
        {
          "output_type": "stream",
          "name": "stdout",
          "text": [
            "Type\n",
            "Free    5.804524e+10\n",
            "Paid    4.408052e+07\n",
            "Name: Installs, dtype: float64\n"
          ]
        }
      ]
    },
    {
      "cell_type": "markdown",
      "source": [
        "here we can see that ***Free Apps*** have higher no of install than ***Paid Apps***"
      ],
      "metadata": {
        "id": "ioBPhgcpn-q1"
      }
    },
    {
      "cell_type": "code",
      "source": [
        "# Getting the insight of price and installs\n",
        "apps_by_ct_install = store_df.groupby('Content Rating')['Installs'].sum()\n",
        "\n",
        "\n",
        "# ploting the category-wise apps count\n",
        "plt.figure(figsize=(15,5)) \n",
        "apps_by_ct_install.plot(kind = 'bar')\n",
        "plt.xticks(rotation=90)\n",
        "plt.title('apps_by_ct_install')\n",
        "plt.show()\n",
        "print(apps_by_ct_install)"
      ],
      "metadata": {
        "colab": {
          "base_uri": "https://localhost:8080/",
          "height": 0
        },
        "id": "0jZSz0Siqzbr",
        "outputId": "abbd0f9d-2e1b-46d0-a5a6-c342b37273e8"
      },
      "execution_count": 21,
      "outputs": [
        {
          "output_type": "display_data",
          "data": {
            "text/plain": [
              "<Figure size 1080x360 with 1 Axes>"
            ],
            "image/png": "[encoded data removed]"
          },
          "metadata": {
            "needs_background": "light"
          }
        },
        {
          "output_type": "stream",
          "name": "stdout",
          "text": [
            "Content Rating\n",
            "Adults only 18+    1.500000e+06\n",
            "Everyone           3.756565e+10\n",
            "Everyone 10+       8.864662e+09\n",
            "Mature 17+         1.194665e+09\n",
            "Teen               1.046280e+10\n",
            "Unrated            5.050000e+04\n",
            "Name: Installs, dtype: float64\n"
          ]
        }
      ]
    },
    {
      "cell_type": "markdown",
      "source": [
        "In app store **apps/games** used by everyone have higher no of downloads."
      ],
      "metadata": {
        "id": "UTyfRxlUs5nL"
      }
    },
    {
      "cell_type": "code",
      "source": [
        "store_df['Revenue'] = store_df.Price*store_df.Installs"
      ],
      "metadata": {
        "id": "Fz6ZlWzVR_N1"
      },
      "execution_count": 22,
      "outputs": []
    },
    {
      "cell_type": "code",
      "source": [
        "plt.figure(figsize=(15,5)) \n",
        "store_df.groupby('Category')['Revenue'].mean().plot(kind = 'bar')\n",
        "plt.title('revenue_by_category')\n",
        "plt.show()"
      ],
      "metadata": {
        "colab": {
          "base_uri": "https://localhost:8080/",
          "height": 0
        },
        "id": "6uQYHmFjOqc6",
        "outputId": "249251f8-c95a-471d-eb5b-d238122ebedf"
      },
      "execution_count": 23,
      "outputs": [
        {
          "output_type": "display_data",
          "data": {
            "text/plain": [
              "<Figure size 1080x360 with 1 Axes>"
            ],
            "image/png": "[encoded data removed]"
          },
          "metadata": {
            "needs_background": "light"
          }
        }
      ]
    },
    {
      "cell_type": "markdown",
      "source": [
        "for paid category ***lifestyle apps*** got highest average revenue from app store "
      ],
      "metadata": {
        "id": "YjY0_kPLS13x"
      }
    },
    {
      "cell_type": "code",
      "source": [
        "# getting the top 10 junck apps\n",
        "today = dt.datetime.today().year\n",
        "less_rated = store_df[store_df['Rating']<=1]\n",
        "less_rated['years_from_last_update'] = less_rated['Last Updated'].apply(lambda x: today-x.year )\n",
        "less_rated.sort_values(['Price','years_from_last_update'],ascending = [False,False])[:10]"
      ],
      "metadata": {
        "colab": {
          "base_uri": "https://localhost:8080/",
          "height": 0
        },
        "id": "cUTMd7KyxldK",
        "outputId": "f3c5a6ba-a12f-4504-c236-b83bb014890c"
      },
      "execution_count": 24,
      "outputs": [
        {
          "output_type": "stream",
          "name": "stderr",
          "text": [
            "/usr/local/lib/python3.7/dist-packages/ipykernel_launcher.py:4: SettingWithCopyWarning: \n",
            "A value is trying to be set on a copy of a slice from a DataFrame.\n",
            "Try using .loc[row_indexer,col_indexer] = value instead\n",
            "\n",
            "See the caveats in the documentation: https://pandas.pydata.org/pandas-docs/stable/user_guide/indexing.html#returning-a-view-versus-a-copy\n",
            "  after removing the cwd from sys.path.\n"
          ]
        },
        {
          "output_type": "execute_result",
          "data": {
            "text/plain": [
              "                                    App      Category  Rating  Reviews  \\\n",
              "9934  I'm Rich/Eu sou Rico/أنا غني/我很有錢     LIFESTYLE     0.0      0.0   \n",
              "9917                        Eu Sou Rico       FINANCE     0.0      0.0   \n",
              "9719                       EP Cook Book       MEDICAL     0.0      0.0   \n",
              "6692                      cronometra-br  PRODUCTIVITY     0.0      0.0   \n",
              "6624            BP Fitness Lead Scanner        EVENTS     0.0      0.0   \n",
              "9730                            Lean EQ      BUSINESS     0.0      6.0   \n",
              "2390          Language Therapy: Aphasia       MEDICAL     0.0     10.0   \n",
              "6559          Dr.Dice - Sic bo analyzer        FAMILY     0.0      2.0   \n",
              "4134      Norwegian For Kids & Babies F        FAMILY     0.0      0.0   \n",
              "9905                        Eu sou Rico       FINANCE     0.0      0.0   \n",
              "\n",
              "            Size  Installs  Type   Price Content Rating         Genres  \\\n",
              "9934  40000000.0       0.0  Paid  399.99       Everyone      Lifestyle   \n",
              "9917         1.4       0.0  Paid  394.99       Everyone        Finance   \n",
              "9719         3.2       0.0  Paid  200.00       Everyone        Medical   \n",
              "6692         5.4       0.0  Paid  154.99       Everyone   Productivity   \n",
              "6624         6.7       1.0  Paid  109.99       Everyone         Events   \n",
              "9730  10000000.0      10.0  Paid   89.99       Everyone       Business   \n",
              "2390  28000000.0    1000.0  Paid   74.99       Everyone        Medical   \n",
              "6559         8.5      10.0  Paid   46.99       Everyone  Entertainment   \n",
              "4134  14000000.0       5.0  Paid   39.99       Everyone      Education   \n",
              "9905         2.6       0.0  Paid   30.99       Everyone        Finance   \n",
              "\n",
              "     Last Updated Current Ver   Android Ver   Revenue  years_from_last_update  \n",
              "9934   2017-12-01       MONEY    4.1 and up      0.00                       5  \n",
              "9917   2018-07-11         1.0  4.0.3 and up      0.00                       4  \n",
              "9719   2015-07-26         1.0    3.0 and up      0.00                       7  \n",
              "6692   2017-11-24       1.0.0    4.1 and up      0.00                       5  \n",
              "6624   2017-08-23       0.0.1    4.1 and up    109.99                       5  \n",
              "9730   2017-02-14         1.0    4.1 and up    899.90                       5  \n",
              "2390   2018-06-25       3.1.1  4.0.3 and up  74990.00                       4  \n",
              "6559   2016-11-05         1.0  4.0.3 and up    469.90                       6  \n",
              "4134   2015-09-24         1.0    4.0 and up    199.95                       7  \n",
              "9905   2018-01-09         1.0    4.0 and up      0.00                       4  "
            ],
            "text/html": [
              "\n",
              "  <div id=\"df-ca6a37b7-55b3-4e34-86c6-7e7699b56cf8\">\n",
              "    <div class=\"colab-df-container\">\n",
              "      <div>\n",
              "<style scoped>\n",
              "    .dataframe tbody tr th:only-of-type {\n",
              "        vertical-align: middle;\n",
              "    }\n",
              "\n",
              "    .dataframe tbody tr th {\n",
              "        vertical-align: top;\n",
              "    }\n",
              "\n",
              "    .dataframe thead th {\n",
              "        text-align: right;\n",
              "    }\n",
              "</style>\n",
              "<table border=\"1\" class=\"dataframe\">\n",
              "  <thead>\n",
              "    <tr style=\"text-align: right;\">\n",
              "      <th></th>\n",
              "      <th>App</th>\n",
              "      <th>Category</th>\n",
              "      <th>Rating</th>\n",
              "      <th>Reviews</th>\n",
              "      <th>Size</th>\n",
              "      <th>Installs</th>\n",
              "      <th>Type</th>\n",
              "      <th>Price</th>\n",
              "      <th>Content Rating</th>\n",
              "      <th>Genres</th>\n",
              "      <th>Last Updated</th>\n",
              "      <th>Current Ver</th>\n",
              "      <th>Android Ver</th>\n",
              "      <th>Revenue</th>\n",
              "      <th>years_from_last_update</th>\n",
              "    </tr>\n",
              "  </thead>\n",
              "  <tbody>\n",
              "    <tr>\n",
              "      <th>9934</th>\n",
              "      <td>I'm Rich/Eu sou Rico/أنا غني/我很有錢</td>\n",
              "      <td>LIFESTYLE</td>\n",
              "      <td>0.0</td>\n",
              "      <td>0.0</td>\n",
              "      <td>40000000.0</td>\n",
              "      <td>0.0</td>\n",
              "      <td>Paid</td>\n",
              "      <td>399.99</td>\n",
              "      <td>Everyone</td>\n",
              "      <td>Lifestyle</td>\n",
              "      <td>2017-12-01</td>\n",
              "      <td>MONEY</td>\n",
              "      <td>4.1 and up</td>\n",
              "      <td>0.00</td>\n",
              "      <td>5</td>\n",
              "    </tr>\n",
              "    <tr>\n",
              "      <th>9917</th>\n",
              "      <td>Eu Sou Rico</td>\n",
              "      <td>FINANCE</td>\n",
              "      <td>0.0</td>\n",
              "      <td>0.0</td>\n",
              "      <td>1.4</td>\n",
              "      <td>0.0</td>\n",
              "      <td>Paid</td>\n",
              "      <td>394.99</td>\n",
              "      <td>Everyone</td>\n",
              "      <td>Finance</td>\n",
              "      <td>2018-07-11</td>\n",
              "      <td>1.0</td>\n",
              "      <td>4.0.3 and up</td>\n",
              "      <td>0.00</td>\n",
              "      <td>4</td>\n",
              "    </tr>\n",
              "    <tr>\n",
              "      <th>9719</th>\n",
              "      <td>EP Cook Book</td>\n",
              "      <td>MEDICAL</td>\n",
              "      <td>0.0</td>\n",
              "      <td>0.0</td>\n",
              "      <td>3.2</td>\n",
              "      <td>0.0</td>\n",
              "      <td>Paid</td>\n",
              "      <td>200.00</td>\n",
              "      <td>Everyone</td>\n",
              "      <td>Medical</td>\n",
              "      <td>2015-07-26</td>\n",
              "      <td>1.0</td>\n",
              "      <td>3.0 and up</td>\n",
              "      <td>0.00</td>\n",
              "      <td>7</td>\n",
              "    </tr>\n",
              "    <tr>\n",
              "      <th>6692</th>\n",
              "      <td>cronometra-br</td>\n",
              "      <td>PRODUCTIVITY</td>\n",
              "      <td>0.0</td>\n",
              "      <td>0.0</td>\n",
              "      <td>5.4</td>\n",
              "      <td>0.0</td>\n",
              "      <td>Paid</td>\n",
              "      <td>154.99</td>\n",
              "      <td>Everyone</td>\n",
              "      <td>Productivity</td>\n",
              "      <td>2017-11-24</td>\n",
              "      <td>1.0.0</td>\n",
              "      <td>4.1 and up</td>\n",
              "      <td>0.00</td>\n",
              "      <td>5</td>\n",
              "    </tr>\n",
              "    <tr>\n",
              "      <th>6624</th>\n",
              "      <td>BP Fitness Lead Scanner</td>\n",
              "      <td>EVENTS</td>\n",
              "      <td>0.0</td>\n",
              "      <td>0.0</td>\n",
              "      <td>6.7</td>\n",
              "      <td>1.0</td>\n",
              "      <td>Paid</td>\n",
              "      <td>109.99</td>\n",
              "      <td>Everyone</td>\n",
              "      <td>Events</td>\n",
              "      <td>2017-08-23</td>\n",
              "      <td>0.0.1</td>\n",
              "      <td>4.1 and up</td>\n",
              "      <td>109.99</td>\n",
              "      <td>5</td>\n",
              "    </tr>\n",
              "    <tr>\n",
              "      <th>9730</th>\n",
              "      <td>Lean EQ</td>\n",
              "      <td>BUSINESS</td>\n",
              "      <td>0.0</td>\n",
              "      <td>6.0</td>\n",
              "      <td>10000000.0</td>\n",
              "      <td>10.0</td>\n",
              "      <td>Paid</td>\n",
              "      <td>89.99</td>\n",
              "      <td>Everyone</td>\n",
              "      <td>Business</td>\n",
              "      <td>2017-02-14</td>\n",
              "      <td>1.0</td>\n",
              "      <td>4.1 and up</td>\n",
              "      <td>899.90</td>\n",
              "      <td>5</td>\n",
              "    </tr>\n",
              "    <tr>\n",
              "      <th>2390</th>\n",
              "      <td>Language Therapy: Aphasia</td>\n",
              "      <td>MEDICAL</td>\n",
              "      <td>0.0</td>\n",
              "      <td>10.0</td>\n",
              "      <td>28000000.0</td>\n",
              "      <td>1000.0</td>\n",
              "      <td>Paid</td>\n",
              "      <td>74.99</td>\n",
              "      <td>Everyone</td>\n",
              "      <td>Medical</td>\n",
              "      <td>2018-06-25</td>\n",
              "      <td>3.1.1</td>\n",
              "      <td>4.0.3 and up</td>\n",
              "      <td>74990.00</td>\n",
              "      <td>4</td>\n",
              "    </tr>\n",
              "    <tr>\n",
              "      <th>6559</th>\n",
              "      <td>Dr.Dice - Sic bo analyzer</td>\n",
              "      <td>FAMILY</td>\n",
              "      <td>0.0</td>\n",
              "      <td>2.0</td>\n",
              "      <td>8.5</td>\n",
              "      <td>10.0</td>\n",
              "      <td>Paid</td>\n",
              "      <td>46.99</td>\n",
              "      <td>Everyone</td>\n",
              "      <td>Entertainment</td>\n",
              "      <td>2016-11-05</td>\n",
              "      <td>1.0</td>\n",
              "      <td>4.0.3 and up</td>\n",
              "      <td>469.90</td>\n",
              "      <td>6</td>\n",
              "    </tr>\n",
              "    <tr>\n",
              "      <th>4134</th>\n",
              "      <td>Norwegian For Kids &amp; Babies F</td>\n",
              "      <td>FAMILY</td>\n",
              "      <td>0.0</td>\n",
              "      <td>0.0</td>\n",
              "      <td>14000000.0</td>\n",
              "      <td>5.0</td>\n",
              "      <td>Paid</td>\n",
              "      <td>39.99</td>\n",
              "      <td>Everyone</td>\n",
              "      <td>Education</td>\n",
              "      <td>2015-09-24</td>\n",
              "      <td>1.0</td>\n",
              "      <td>4.0 and up</td>\n",
              "      <td>199.95</td>\n",
              "      <td>7</td>\n",
              "    </tr>\n",
              "    <tr>\n",
              "      <th>9905</th>\n",
              "      <td>Eu sou Rico</td>\n",
              "      <td>FINANCE</td>\n",
              "      <td>0.0</td>\n",
              "      <td>0.0</td>\n",
              "      <td>2.6</td>\n",
              "      <td>0.0</td>\n",
              "      <td>Paid</td>\n",
              "      <td>30.99</td>\n",
              "      <td>Everyone</td>\n",
              "      <td>Finance</td>\n",
              "      <td>2018-01-09</td>\n",
              "      <td>1.0</td>\n",
              "      <td>4.0 and up</td>\n",
              "      <td>0.00</td>\n",
              "      <td>4</td>\n",
              "    </tr>\n",
              "  </tbody>\n",
              "</table>\n",
              "</div>\n",
              "      <button class=\"colab-df-convert\" onclick=\"convertToInteractive('df-ca6a37b7-55b3-4e34-86c6-7e7699b56cf8')\"\n",
              "              title=\"Convert this dataframe to an interactive table.\"\n",
              "              style=\"display:none;\">\n",
              "        \n",
              "  <svg xmlns=\"http://www.w3.org/2000/svg\" height=\"24px\"viewBox=\"0 0 24 24\"\n",
              "       width=\"24px\">\n",
              "    <path d=\"M0 0h24v24H0V0z\" fill=\"none\"/>\n",
              "    <path d=\"M18.56 5.44l.94 2.06.94-2.06 2.06-.94-2.06-.94-.94-2.06-.94 2.06-2.06.94zm-11 1L8.5 8.5l.94-2.06 2.06-.94-2.06-.94L8.5 2.5l-.94 2.06-2.06.94zm10 10l.94 2.06.94-2.06 2.06-.94-2.06-.94-.94-2.06-.94 2.06-2.06.94z\"/><path d=\"M17.41 7.96l-1.37-1.37c-.4-.4-.92-.59-1.43-.59-.52 0-1.04.2-1.43.59L10.3 9.45l-7.72 7.72c-.78.78-.78 2.05 0 2.83L4 21.41c.39.39.9.59 1.41.59.51 0 1.02-.2 1.41-.59l7.78-7.78 2.81-2.81c.8-.78.8-2.07 0-2.86zM5.41 20L4 18.59l7.72-7.72 1.47 1.35L5.41 20z\"/>\n",
              "  </svg>\n",
              "      </button>\n",
              "      \n",
              "  <style>\n",
              "    .colab-df-container {\n",
              "      display:flex;\n",
              "      flex-wrap:wrap;\n",
              "      gap: 12px;\n",
              "    }\n",
              "\n",
              "    .colab-df-convert {\n",
              "      background-color: #E8F0FE;\n",
              "      border: none;\n",
              "      border-radius: 50%;\n",
              "      cursor: pointer;\n",
              "      display: none;\n",
              "      fill: #1967D2;\n",
              "      height: 32px;\n",
              "      padding: 0 0 0 0;\n",
              "      width: 32px;\n",
              "    }\n",
              "\n",
              "    .colab-df-convert:hover {\n",
              "      background-color: #E2EBFA;\n",
              "      box-shadow: 0px 1px 2px rgba(60, 64, 67, 0.3), 0px 1px 3px 1px rgba(60, 64, 67, 0.15);\n",
              "      fill: #174EA6;\n",
              "    }\n",
              "\n",
              "    [theme=dark] .colab-df-convert {\n",
              "      background-color: #3B4455;\n",
              "      fill: #D2E3FC;\n",
              "    }\n",
              "\n",
              "    [theme=dark] .colab-df-convert:hover {\n",
              "      background-color: #434B5C;\n",
              "      box-shadow: 0px 1px 3px 1px rgba(0, 0, 0, 0.15);\n",
              "      filter: drop-shadow(0px 1px 2px rgba(0, 0, 0, 0.3));\n",
              "      fill: #FFFFFF;\n",
              "    }\n",
              "  </style>\n",
              "\n",
              "      <script>\n",
              "        const buttonEl =\n",
              "          document.querySelector('#df-ca6a37b7-55b3-4e34-86c6-7e7699b56cf8 button.colab-df-convert');\n",
              "        buttonEl.style.display =\n",
              "          google.colab.kernel.accessAllowed ? 'block' : 'none';\n",
              "\n",
              "        async function convertToInteractive(key) {\n",
              "          const element = document.querySelector('#df-ca6a37b7-55b3-4e34-86c6-7e7699b56cf8');\n",
              "          const dataTable =\n",
              "            await google.colab.kernel.invokeFunction('convertToInteractive',\n",
              "                                                     [key], {});\n",
              "          if (!dataTable) return;\n",
              "\n",
              "          const docLinkHtml = 'Like what you see? Visit the ' +\n",
              "            '<a target=\"_blank\" href=https://colab.research.google.com/notebooks/data_table.ipynb>data table notebook</a>'\n",
              "            + ' to learn more about interactive tables.';\n",
              "          element.innerHTML = '';\n",
              "          dataTable['output_type'] = 'display_data';\n",
              "          await google.colab.output.renderOutput(dataTable, element);\n",
              "          const docLink = document.createElement('div');\n",
              "          docLink.innerHTML = docLinkHtml;\n",
              "          element.appendChild(docLink);\n",
              "        }\n",
              "      </script>\n",
              "    </div>\n",
              "  </div>\n",
              "  "
            ]
          },
          "metadata": {},
          "execution_count": 24
        }
      ]
    },
    {
      "cell_type": "code",
      "source": [
        "store_df"
      ],
      "metadata": {
        "colab": {
          "base_uri": "https://localhost:8080/",
          "height": 0
        },
        "id": "1EJyrw9H1sTy",
        "outputId": "33b39bf8-7dca-4bd6-a033-de38837e06f5"
      },
      "execution_count": 25,
      "outputs": [
        {
          "output_type": "execute_result",
          "data": {
            "text/plain": [
              "                                                     App        Category  \\\n",
              "0         Photo Editor & Candy Camera & Grid & ScrapBook  ART_AND_DESIGN   \n",
              "1                                    Coloring book moana  ART_AND_DESIGN   \n",
              "2      U Launcher Lite – FREE Live Cool Themes, Hide ...  ART_AND_DESIGN   \n",
              "3                                  Sketch - Draw & Paint  ART_AND_DESIGN   \n",
              "4                  Pixel Draw - Number Art Coloring Book  ART_AND_DESIGN   \n",
              "...                                                  ...             ...   \n",
              "10835                                           FR Forms        BUSINESS   \n",
              "10836                                   Sya9a Maroc - FR          FAMILY   \n",
              "10837                   Fr. Mike Schmitz Audio Teachings          FAMILY   \n",
              "10838                             Parkinson Exercices FR         MEDICAL   \n",
              "10840      iHoroscope - 2018 Daily Horoscope & Astrology       LIFESTYLE   \n",
              "\n",
              "       Rating   Reviews        Size    Installs  Type  Price Content Rating  \\\n",
              "0         4.1     159.0  19000000.0     10000.0  Free    0.0       Everyone   \n",
              "1         3.9     967.0  14000000.0    500000.0  Free    0.0       Everyone   \n",
              "2         4.7   87510.0         8.7   5000000.0  Free    0.0       Everyone   \n",
              "3         4.5  215644.0  25000000.0  50000000.0  Free    0.0           Teen   \n",
              "4         4.3     967.0         2.8    100000.0  Free    0.0       Everyone   \n",
              "...       ...       ...         ...         ...   ...    ...            ...   \n",
              "10835     0.0       0.0         9.6        10.0  Free    0.0       Everyone   \n",
              "10836     4.5      38.0  53000000.0      5000.0  Free    0.0       Everyone   \n",
              "10837     5.0       4.0         3.6       100.0  Free    0.0       Everyone   \n",
              "10838     0.0       3.0         9.5      1000.0  Free    0.0       Everyone   \n",
              "10840     4.5  398307.0  19000000.0  10000000.0  Free    0.0       Everyone   \n",
              "\n",
              "                          Genres Last Updated         Current Ver  \\\n",
              "0                   Art & Design   2018-01-07               1.0.0   \n",
              "1      Art & Design;Pretend Play   2018-01-15               2.0.0   \n",
              "2                   Art & Design   2018-08-01               1.2.4   \n",
              "3                   Art & Design   2018-06-08  Varies with device   \n",
              "4        Art & Design;Creativity   2018-06-20                 1.1   \n",
              "...                          ...          ...                 ...   \n",
              "10835                   Business   2016-09-29               1.1.5   \n",
              "10836                  Education   2017-07-25                1.48   \n",
              "10837                  Education   2018-07-06                 1.0   \n",
              "10838                    Medical   2017-01-20                 1.0   \n",
              "10840                  Lifestyle   2018-07-25  Varies with device   \n",
              "\n",
              "              Android Ver  Revenue  \n",
              "0            4.0.3 and up      0.0  \n",
              "1            4.0.3 and up      0.0  \n",
              "2            4.0.3 and up      0.0  \n",
              "3              4.2 and up      0.0  \n",
              "4              4.4 and up      0.0  \n",
              "...                   ...      ...  \n",
              "10835          4.0 and up      0.0  \n",
              "10836          4.1 and up      0.0  \n",
              "10837          4.1 and up      0.0  \n",
              "10838          2.2 and up      0.0  \n",
              "10840  Varies with device      0.0  \n",
              "\n",
              "[8831 rows x 14 columns]"
            ],
            "text/html": [
              "\n",
              "  <div id=\"df-6c0550cc-824c-4658-b88f-ccf4a316a99c\">\n",
              "    <div class=\"colab-df-container\">\n",
              "      <div>\n",
              "<style scoped>\n",
              "    .dataframe tbody tr th:only-of-type {\n",
              "        vertical-align: middle;\n",
              "    }\n",
              "\n",
              "    .dataframe tbody tr th {\n",
              "        vertical-align: top;\n",
              "    }\n",
              "\n",
              "    .dataframe thead th {\n",
              "        text-align: right;\n",
              "    }\n",
              "</style>\n",
              "<table border=\"1\" class=\"dataframe\">\n",
              "  <thead>\n",
              "    <tr style=\"text-align: right;\">\n",
              "      <th></th>\n",
              "      <th>App</th>\n",
              "      <th>Category</th>\n",
              "      <th>Rating</th>\n",
              "      <th>Reviews</th>\n",
              "      <th>Size</th>\n",
              "      <th>Installs</th>\n",
              "      <th>Type</th>\n",
              "      <th>Price</th>\n",
              "      <th>Content Rating</th>\n",
              "      <th>Genres</th>\n",
              "      <th>Last Updated</th>\n",
              "      <th>Current Ver</th>\n",
              "      <th>Android Ver</th>\n",
              "      <th>Revenue</th>\n",
              "    </tr>\n",
              "  </thead>\n",
              "  <tbody>\n",
              "    <tr>\n",
              "      <th>0</th>\n",
              "      <td>Photo Editor &amp; Candy Camera &amp; Grid &amp; ScrapBook</td>\n",
              "      <td>ART_AND_DESIGN</td>\n",
              "      <td>4.1</td>\n",
              "      <td>159.0</td>\n",
              "      <td>19000000.0</td>\n",
              "      <td>10000.0</td>\n",
              "      <td>Free</td>\n",
              "      <td>0.0</td>\n",
              "      <td>Everyone</td>\n",
              "      <td>Art &amp; Design</td>\n",
              "      <td>2018-01-07</td>\n",
              "      <td>1.0.0</td>\n",
              "      <td>4.0.3 and up</td>\n",
              "      <td>0.0</td>\n",
              "    </tr>\n",
              "    <tr>\n",
              "      <th>1</th>\n",
              "      <td>Coloring book moana</td>\n",
              "      <td>ART_AND_DESIGN</td>\n",
              "      <td>3.9</td>\n",
              "      <td>967.0</td>\n",
              "      <td>14000000.0</td>\n",
              "      <td>500000.0</td>\n",
              "      <td>Free</td>\n",
              "      <td>0.0</td>\n",
              "      <td>Everyone</td>\n",
              "      <td>Art &amp; Design;Pretend Play</td>\n",
              "      <td>2018-01-15</td>\n",
              "      <td>2.0.0</td>\n",
              "      <td>4.0.3 and up</td>\n",
              "      <td>0.0</td>\n",
              "    </tr>\n",
              "    <tr>\n",
              "      <th>2</th>\n",
              "      <td>U Launcher Lite – FREE Live Cool Themes, Hide ...</td>\n",
              "      <td>ART_AND_DESIGN</td>\n",
              "      <td>4.7</td>\n",
              "      <td>87510.0</td>\n",
              "      <td>8.7</td>\n",
              "      <td>5000000.0</td>\n",
              "      <td>Free</td>\n",
              "      <td>0.0</td>\n",
              "      <td>Everyone</td>\n",
              "      <td>Art &amp; Design</td>\n",
              "      <td>2018-08-01</td>\n",
              "      <td>1.2.4</td>\n",
              "      <td>4.0.3 and up</td>\n",
              "      <td>0.0</td>\n",
              "    </tr>\n",
              "    <tr>\n",
              "      <th>3</th>\n",
              "      <td>Sketch - Draw &amp; Paint</td>\n",
              "      <td>ART_AND_DESIGN</td>\n",
              "      <td>4.5</td>\n",
              "      <td>215644.0</td>\n",
              "      <td>25000000.0</td>\n",
              "      <td>50000000.0</td>\n",
              "      <td>Free</td>\n",
              "      <td>0.0</td>\n",
              "      <td>Teen</td>\n",
              "      <td>Art &amp; Design</td>\n",
              "      <td>2018-06-08</td>\n",
              "      <td>Varies with device</td>\n",
              "      <td>4.2 and up</td>\n",
              "      <td>0.0</td>\n",
              "    </tr>\n",
              "    <tr>\n",
              "      <th>4</th>\n",
              "      <td>Pixel Draw - Number Art Coloring Book</td>\n",
              "      <td>ART_AND_DESIGN</td>\n",
              "      <td>4.3</td>\n",
              "      <td>967.0</td>\n",
              "      <td>2.8</td>\n",
              "      <td>100000.0</td>\n",
              "      <td>Free</td>\n",
              "      <td>0.0</td>\n",
              "      <td>Everyone</td>\n",
              "      <td>Art &amp; Design;Creativity</td>\n",
              "      <td>2018-06-20</td>\n",
              "      <td>1.1</td>\n",
              "      <td>4.4 and up</td>\n",
              "      <td>0.0</td>\n",
              "    </tr>\n",
              "    <tr>\n",
              "      <th>...</th>\n",
              "      <td>...</td>\n",
              "      <td>...</td>\n",
              "      <td>...</td>\n",
              "      <td>...</td>\n",
              "      <td>...</td>\n",
              "      <td>...</td>\n",
              "      <td>...</td>\n",
              "      <td>...</td>\n",
              "      <td>...</td>\n",
              "      <td>...</td>\n",
              "      <td>...</td>\n",
              "      <td>...</td>\n",
              "      <td>...</td>\n",
              "      <td>...</td>\n",
              "    </tr>\n",
              "    <tr>\n",
              "      <th>10835</th>\n",
              "      <td>FR Forms</td>\n",
              "      <td>BUSINESS</td>\n",
              "      <td>0.0</td>\n",
              "      <td>0.0</td>\n",
              "      <td>9.6</td>\n",
              "      <td>10.0</td>\n",
              "      <td>Free</td>\n",
              "      <td>0.0</td>\n",
              "      <td>Everyone</td>\n",
              "      <td>Business</td>\n",
              "      <td>2016-09-29</td>\n",
              "      <td>1.1.5</td>\n",
              "      <td>4.0 and up</td>\n",
              "      <td>0.0</td>\n",
              "    </tr>\n",
              "    <tr>\n",
              "      <th>10836</th>\n",
              "      <td>Sya9a Maroc - FR</td>\n",
              "      <td>FAMILY</td>\n",
              "      <td>4.5</td>\n",
              "      <td>38.0</td>\n",
              "      <td>53000000.0</td>\n",
              "      <td>5000.0</td>\n",
              "      <td>Free</td>\n",
              "      <td>0.0</td>\n",
              "      <td>Everyone</td>\n",
              "      <td>Education</td>\n",
              "      <td>2017-07-25</td>\n",
              "      <td>1.48</td>\n",
              "      <td>4.1 and up</td>\n",
              "      <td>0.0</td>\n",
              "    </tr>\n",
              "    <tr>\n",
              "      <th>10837</th>\n",
              "      <td>Fr. Mike Schmitz Audio Teachings</td>\n",
              "      <td>FAMILY</td>\n",
              "      <td>5.0</td>\n",
              "      <td>4.0</td>\n",
              "      <td>3.6</td>\n",
              "      <td>100.0</td>\n",
              "      <td>Free</td>\n",
              "      <td>0.0</td>\n",
              "      <td>Everyone</td>\n",
              "      <td>Education</td>\n",
              "      <td>2018-07-06</td>\n",
              "      <td>1.0</td>\n",
              "      <td>4.1 and up</td>\n",
              "      <td>0.0</td>\n",
              "    </tr>\n",
              "    <tr>\n",
              "      <th>10838</th>\n",
              "      <td>Parkinson Exercices FR</td>\n",
              "      <td>MEDICAL</td>\n",
              "      <td>0.0</td>\n",
              "      <td>3.0</td>\n",
              "      <td>9.5</td>\n",
              "      <td>1000.0</td>\n",
              "      <td>Free</td>\n",
              "      <td>0.0</td>\n",
              "      <td>Everyone</td>\n",
              "      <td>Medical</td>\n",
              "      <td>2017-01-20</td>\n",
              "      <td>1.0</td>\n",
              "      <td>2.2 and up</td>\n",
              "      <td>0.0</td>\n",
              "    </tr>\n",
              "    <tr>\n",
              "      <th>10840</th>\n",
              "      <td>iHoroscope - 2018 Daily Horoscope &amp; Astrology</td>\n",
              "      <td>LIFESTYLE</td>\n",
              "      <td>4.5</td>\n",
              "      <td>398307.0</td>\n",
              "      <td>19000000.0</td>\n",
              "      <td>10000000.0</td>\n",
              "      <td>Free</td>\n",
              "      <td>0.0</td>\n",
              "      <td>Everyone</td>\n",
              "      <td>Lifestyle</td>\n",
              "      <td>2018-07-25</td>\n",
              "      <td>Varies with device</td>\n",
              "      <td>Varies with device</td>\n",
              "      <td>0.0</td>\n",
              "    </tr>\n",
              "  </tbody>\n",
              "</table>\n",
              "<p>8831 rows × 14 columns</p>\n",
              "</div>\n",
              "      <button class=\"colab-df-convert\" onclick=\"convertToInteractive('df-6c0550cc-824c-4658-b88f-ccf4a316a99c')\"\n",
              "              title=\"Convert this dataframe to an interactive table.\"\n",
              "              style=\"display:none;\">\n",
              "        \n",
              "  <svg xmlns=\"http://www.w3.org/2000/svg\" height=\"24px\"viewBox=\"0 0 24 24\"\n",
              "       width=\"24px\">\n",
              "    <path d=\"M0 0h24v24H0V0z\" fill=\"none\"/>\n",
              "    <path d=\"M18.56 5.44l.94 2.06.94-2.06 2.06-.94-2.06-.94-.94-2.06-.94 2.06-2.06.94zm-11 1L8.5 8.5l.94-2.06 2.06-.94-2.06-.94L8.5 2.5l-.94 2.06-2.06.94zm10 10l.94 2.06.94-2.06 2.06-.94-2.06-.94-.94-2.06-.94 2.06-2.06.94z\"/><path d=\"M17.41 7.96l-1.37-1.37c-.4-.4-.92-.59-1.43-.59-.52 0-1.04.2-1.43.59L10.3 9.45l-7.72 7.72c-.78.78-.78 2.05 0 2.83L4 21.41c.39.39.9.59 1.41.59.51 0 1.02-.2 1.41-.59l7.78-7.78 2.81-2.81c.8-.78.8-2.07 0-2.86zM5.41 20L4 18.59l7.72-7.72 1.47 1.35L5.41 20z\"/>\n",
              "  </svg>\n",
              "      </button>\n",
              "      \n",
              "  <style>\n",
              "    .colab-df-container {\n",
              "      display:flex;\n",
              "      flex-wrap:wrap;\n",
              "      gap: 12px;\n",
              "    }\n",
              "\n",
              "    .colab-df-convert {\n",
              "      background-color: #E8F0FE;\n",
              "      border: none;\n",
              "      border-radius: 50%;\n",
              "      cursor: pointer;\n",
              "      display: none;\n",
              "      fill: #1967D2;\n",
              "      height: 32px;\n",
              "      padding: 0 0 0 0;\n",
              "      width: 32px;\n",
              "    }\n",
              "\n",
              "    .colab-df-convert:hover {\n",
              "      background-color: #E2EBFA;\n",
              "      box-shadow: 0px 1px 2px rgba(60, 64, 67, 0.3), 0px 1px 3px 1px rgba(60, 64, 67, 0.15);\n",
              "      fill: #174EA6;\n",
              "    }\n",
              "\n",
              "    [theme=dark] .colab-df-convert {\n",
              "      background-color: #3B4455;\n",
              "      fill: #D2E3FC;\n",
              "    }\n",
              "\n",
              "    [theme=dark] .colab-df-convert:hover {\n",
              "      background-color: #434B5C;\n",
              "      box-shadow: 0px 1px 3px 1px rgba(0, 0, 0, 0.15);\n",
              "      filter: drop-shadow(0px 1px 2px rgba(0, 0, 0, 0.3));\n",
              "      fill: #FFFFFF;\n",
              "    }\n",
              "  </style>\n",
              "\n",
              "      <script>\n",
              "        const buttonEl =\n",
              "          document.querySelector('#df-6c0550cc-824c-4658-b88f-ccf4a316a99c button.colab-df-convert');\n",
              "        buttonEl.style.display =\n",
              "          google.colab.kernel.accessAllowed ? 'block' : 'none';\n",
              "\n",
              "        async function convertToInteractive(key) {\n",
              "          const element = document.querySelector('#df-6c0550cc-824c-4658-b88f-ccf4a316a99c');\n",
              "          const dataTable =\n",
              "            await google.colab.kernel.invokeFunction('convertToInteractive',\n",
              "                                                     [key], {});\n",
              "          if (!dataTable) return;\n",
              "\n",
              "          const docLinkHtml = 'Like what you see? Visit the ' +\n",
              "            '<a target=\"_blank\" href=https://colab.research.google.com/notebooks/data_table.ipynb>data table notebook</a>'\n",
              "            + ' to learn more about interactive tables.';\n",
              "          element.innerHTML = '';\n",
              "          dataTable['output_type'] = 'display_data';\n",
              "          await google.colab.output.renderOutput(dataTable, element);\n",
              "          const docLink = document.createElement('div');\n",
              "          docLink.innerHTML = docLinkHtml;\n",
              "          element.appendChild(docLink);\n",
              "        }\n",
              "      </script>\n",
              "    </div>\n",
              "  </div>\n",
              "  "
            ]
          },
          "metadata": {},
          "execution_count": 25
        }
      ]
    },
    {
      "cell_type": "markdown",
      "source": [
        "# Merge the store data to review data and print some info"
      ],
      "metadata": {
        "id": "1auCr4mYoiEe"
      }
    },
    {
      "cell_type": "code",
      "source": [
        "merge_df = store_df.merge(review_df)"
      ],
      "metadata": {
        "id": "PAA3RCWKjN42"
      },
      "execution_count": 26,
      "outputs": []
    },
    {
      "cell_type": "code",
      "source": [
        "print(merge_df.head())\n",
        "print(merge_df.info())\n",
        "print(merge_df.isna().sum())"
      ],
      "metadata": {
        "colab": {
          "base_uri": "https://localhost:8080/"
        },
        "id": "zR00FIyzo5Hg",
        "outputId": "ff2f3305-5ea5-4c29-f67a-fe7cc90dfc0c"
      },
      "execution_count": 27,
      "outputs": [
        {
          "output_type": "stream",
          "name": "stdout",
          "text": [
            "                   App        Category  Rating  Reviews        Size  Installs  \\\n",
            "0  Coloring book moana  ART_AND_DESIGN     3.9    967.0  14000000.0  500000.0   \n",
            "1  Coloring book moana  ART_AND_DESIGN     3.9    967.0  14000000.0  500000.0   \n",
            "2  Coloring book moana  ART_AND_DESIGN     3.9    967.0  14000000.0  500000.0   \n",
            "3  Coloring book moana  ART_AND_DESIGN     3.9    967.0  14000000.0  500000.0   \n",
            "4  Coloring book moana  ART_AND_DESIGN     3.9    967.0  14000000.0  500000.0   \n",
            "\n",
            "   Type  Price Content Rating                     Genres Last Updated  \\\n",
            "0  Free    0.0       Everyone  Art & Design;Pretend Play   2018-01-15   \n",
            "1  Free    0.0       Everyone  Art & Design;Pretend Play   2018-01-15   \n",
            "2  Free    0.0       Everyone  Art & Design;Pretend Play   2018-01-15   \n",
            "3  Free    0.0       Everyone  Art & Design;Pretend Play   2018-01-15   \n",
            "4  Free    0.0       Everyone  Art & Design;Pretend Play   2018-01-15   \n",
            "\n",
            "  Current Ver   Android Ver  Revenue  \\\n",
            "0       2.0.0  4.0.3 and up      0.0   \n",
            "1       2.0.0  4.0.3 and up      0.0   \n",
            "2       2.0.0  4.0.3 and up      0.0   \n",
            "3       2.0.0  4.0.3 and up      0.0   \n",
            "4       2.0.0  4.0.3 and up      0.0   \n",
            "\n",
            "                                   Translated_Review Sentiment  \\\n",
            "0  A kid's excessive ads. The types ads allowed a...  Negative   \n",
            "1                                         It bad >:(  Negative   \n",
            "2                                               like   Neutral   \n",
            "3                                                NaN       NaN   \n",
            "4                           I love colors inspyering  Positive   \n",
            "\n",
            "   Sentiment_Polarity  Sentiment_Subjectivity  \n",
            "0              -0.250                1.000000  \n",
            "1              -0.725                0.833333  \n",
            "2               0.000                0.000000  \n",
            "3                 NaN                     NaN  \n",
            "4               0.500                0.600000  \n",
            "<class 'pandas.core.frame.DataFrame'>\n",
            "Int64Index: 64248 entries, 0 to 64247\n",
            "Data columns (total 18 columns):\n",
            " #   Column                  Non-Null Count  Dtype         \n",
            "---  ------                  --------------  -----         \n",
            " 0   App                     64248 non-null  object        \n",
            " 1   Category                64248 non-null  object        \n",
            " 2   Rating                  64248 non-null  float64       \n",
            " 3   Reviews                 64248 non-null  float64       \n",
            " 4   Size                    64248 non-null  float64       \n",
            " 5   Installs                64248 non-null  float64       \n",
            " 6   Type                    64248 non-null  object        \n",
            " 7   Price                   64248 non-null  float64       \n",
            " 8   Content Rating          64248 non-null  object        \n",
            " 9   Genres                  64248 non-null  object        \n",
            " 10  Last Updated            64248 non-null  datetime64[ns]\n",
            " 11  Current Ver             64248 non-null  object        \n",
            " 12  Android Ver             64248 non-null  object        \n",
            " 13  Revenue                 64248 non-null  float64       \n",
            " 14  Translated_Review       37839 non-null  object        \n",
            " 15  Sentiment               37842 non-null  object        \n",
            " 16  Sentiment_Polarity      37842 non-null  float64       \n",
            " 17  Sentiment_Subjectivity  37842 non-null  float64       \n",
            "dtypes: datetime64[ns](1), float64(8), object(9)\n",
            "memory usage: 9.3+ MB\n",
            "None\n",
            "App                           0\n",
            "Category                      0\n",
            "Rating                        0\n",
            "Reviews                       0\n",
            "Size                          0\n",
            "Installs                      0\n",
            "Type                          0\n",
            "Price                         0\n",
            "Content Rating                0\n",
            "Genres                        0\n",
            "Last Updated                  0\n",
            "Current Ver                   0\n",
            "Android Ver                   0\n",
            "Revenue                       0\n",
            "Translated_Review         26409\n",
            "Sentiment                 26406\n",
            "Sentiment_Polarity        26406\n",
            "Sentiment_Subjectivity    26406\n",
            "dtype: int64\n"
          ]
        }
      ]
    },
    {
      "cell_type": "code",
      "source": [
        "merge_df.drop('Translated_Review',axis=1,inplace=True)"
      ],
      "metadata": {
        "id": "RNVKSrbfpeCo"
      },
      "execution_count": 28,
      "outputs": []
    },
    {
      "cell_type": "code",
      "source": [
        "merge_df.dropna(subset = ['Sentiment_Subjectivity','Sentiment_Polarity','Sentiment'],inplace=True)"
      ],
      "metadata": {
        "id": "rn8FxjhsqEWQ"
      },
      "execution_count": 29,
      "outputs": []
    },
    {
      "cell_type": "code",
      "source": [
        "plt.figure(figsize=(15,5)) \n",
        "merge_df.groupby(['Type','Sentiment'])['App'].count().plot(kind = 'bar')\n",
        "plt.title('count_type_sentiment')\n",
        "plt.show()"
      ],
      "metadata": {
        "colab": {
          "base_uri": "https://localhost:8080/",
          "height": 0
        },
        "id": "ySOQNJAhAQS8",
        "outputId": "9f13f3e0-1e28-49b9-d502-8c59bce6b505"
      },
      "execution_count": 30,
      "outputs": [
        {
          "output_type": "display_data",
          "data": {
            "text/plain": [
              "<Figure size 1080x360 with 1 Axes>"
            ],
            "image/png": "[encoded data removed]"
          },
          "metadata": {
            "needs_background": "light"
          }
        }
      ]
    },
    {
      "cell_type": "markdown",
      "source": [
        "***Free Apps with Positive sentiment are highest  count in play store***"
      ],
      "metadata": {
        "id": "hV670YnTDOJy"
      }
    },
    {
      "cell_type": "code",
      "source": [
        "# User review sentiment polarity for paid vs. free apps\n",
        "plt.figure(figsize=(15,5)) \n",
        "sns.boxplot(x = 'Type', y = 'Sentiment_Polarity', data = merge_df)\n",
        "plt.title('Sentiment Polarity Distribution')\n",
        "plt.show()\n",
        "merge_df.groupby('Type')['Sentiment_Polarity'].mean()"
      ],
      "metadata": {
        "colab": {
          "base_uri": "https://localhost:8080/",
          "height": 0
        },
        "id": "LIPFunw5qnCY",
        "outputId": "57f38a6f-fa93-43f3-b585-6b6ee75b52da"
      },
      "execution_count": 31,
      "outputs": [
        {
          "output_type": "display_data",
          "data": {
            "text/plain": [
              "<Figure size 1080x360 with 1 Axes>"
            ],
            "image/png": "[encoded data removed]"
          },
          "metadata": {
            "needs_background": "light"
          }
        },
        {
          "output_type": "execute_result",
          "data": {
            "text/plain": [
              "Type\n",
              "Free    0.151024\n",
              "Paid    0.219055\n",
              "Name: Sentiment_Polarity, dtype: float64"
            ]
          },
          "metadata": {},
          "execution_count": 31
        }
      ]
    },
    {
      "cell_type": "code",
      "source": [
        "plt.figure(figsize=(15,5)) \n",
        "sns.boxplot(x = 'Type', y = 'Sentiment_Subjectivity', data = merge_df)\n",
        "plt.title('Sentiment Subjectivity Distribution')\n",
        "plt.show()\n",
        "merge_df.groupby('Type')['Sentiment_Subjectivity'].mean()"
      ],
      "metadata": {
        "colab": {
          "base_uri": "https://localhost:8080/",
          "height": 0
        },
        "id": "pf_S6QARthkv",
        "outputId": "b488224f-624a-4e9c-8365-5b07f0ee126b"
      },
      "execution_count": 32,
      "outputs": [
        {
          "output_type": "display_data",
          "data": {
            "text/plain": [
              "<Figure size 1080x360 with 1 Axes>"
            ],
            "image/png": "[encoded data removed]"
          },
          "metadata": {
            "needs_background": "light"
          }
        },
        {
          "output_type": "execute_result",
          "data": {
            "text/plain": [
              "Type\n",
              "Free    0.499018\n",
              "Paid    0.514377\n",
              "Name: Sentiment_Subjectivity, dtype: float64"
            ]
          },
          "metadata": {},
          "execution_count": 32
        }
      ]
    },
    {
      "cell_type": "markdown",
      "source": [
        "# Conclusion\n",
        "\n",
        "With the Eda we got these inferences- \n",
        "\n",
        "1.    FAMILY category has maximum no of apps fallowed by the GAME category in play Store.\n",
        "2.   GAME category has the maximun no of installes apps in Play store.\n",
        "3.   GAME category has the maximun no of reviews of apps in Play store.\n",
        "4.   On average Finance Apps are costly than other apps fallowed by LifeStyle Apps.\n",
        "5.   Free Apps have the higher no of installs than the paid ones.\n",
        "6.   In apps store appes/games used by Every One have highest no of Installs.\n",
        "7.   Free Apps with Positive sentiment are highest  count in play store.\n",
        "8.   For paid category lifestyle apps got highest average revenue from app store.\n",
        "9.   Paid apps have higher average sentiment polarity than Free apps.Both the paid and Free apps have Positive average sentiment polarity.\n",
        "10.  Paid apps are very little ahead of average sentiment subjectivity than free apps. \n",
        "11.  There are some apps that have average reviews lowest and price of the apps is one highest end and have not been updated since multiple years we should consider these apps junk apps or fake apps.\n",
        "\n"
      ],
      "metadata": {
        "id": "ZzPL1UtkVK0g"
      }
    },
    {
      "cell_type": "code",
      "source": [
        ""
      ],
      "metadata": {
        "id": "C6EuI0FdZ3F-"
      },
      "execution_count": 32,
      "outputs": []
    },
    {
      "cell_type": "markdown",
      "source": [
        "# Business insights\n",
        "\n",
        "*   If you are a app creater and you create free apps then your focus should be on creating such games which should be suitalbe for all Age groups\n",
        "*   If you are a app creaater and you create paid apps then your focus should be on creating Finance and Lifestyle apps.\n",
        "*   If you are are advatiser your focus should be on Games for the promations of your product.\n",
        "*   If you are a play store Official your focus should be removing junk and fake apps and also consider high advartising fee from customers, for apps having positive average sentiment plaraity.\n",
        "*   also for promations of apps you should you should consider promating Finance apps.\n",
        "*   For the play store users, they should consider for paid apps for serius tasks.\n",
        "\n"
      ],
      "metadata": {
        "id": "yN-it8HhZ4T6"
      }
    },
    {
      "cell_type": "code",
      "source": [
        ""
      ],
      "metadata": {
        "id": "Swr3pEddaFKW"
      },
      "execution_count": 32,
      "outputs": []
    }
  ]
}